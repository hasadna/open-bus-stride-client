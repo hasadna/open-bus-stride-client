{
 "cells": [
  {
   "cell_type": "markdown",
   "id": "9d391964",
   "metadata": {
    "tags": []
   },
   "source": [
    "### Install dependencies\n",
    "\n",
    "This notebook requires a dependency which can be installed with the following command `pip install open-bus-stride-client`.\n",
    "\n",
    "You can also launch it online at [this URL](https://mybinder.org/v2/gh/hasadna/open-bus-stride-client/main?labpath=notebooks%2Fload%20siri%20vehicle%20locations%20to%20pandas%20dataframe.ipynb), when launching online the dependencies are already installed.\n"
   ]
  },
  {
   "cell_type": "code",
   "execution_count": 1,
   "id": "b85604c6",
   "metadata": {
    "ExecuteTime": {
     "end_time": "2022-04-21T14:18:46.916143Z",
     "start_time": "2022-04-21T14:18:46.910145Z"
    }
   },
   "outputs": [],
   "source": [
    "# !pip install open-bus-stride-client"
   ]
  },
  {
   "cell_type": "code",
   "execution_count": 2,
   "id": "24b215ba",
   "metadata": {
    "ExecuteTime": {
     "end_time": "2022-04-21T14:18:47.733553Z",
     "start_time": "2022-04-21T14:18:46.923137Z"
    }
   },
   "outputs": [],
   "source": [
    "import pandas as pd\n",
    "import datetime\n",
    "from dateutil import tz\n",
    "\n",
    "pd.options.display.max_columns = 1000\n",
    "pd.options.display.max_colwidth = 1000\n",
    "\n",
    "import stride"
   ]
  },
  {
   "cell_type": "markdown",
   "id": "fdb49cae",
   "metadata": {},
   "source": [
    "### Find a route to investigave\n",
    "\n",
    "As SIRI data doesn't hold the `route_short_name` data (the bus line number) we will use the GTFS to find a route.\n",
    "\n",
    "Let's look for line number `480` (Egged)."
   ]
  },
  {
   "cell_type": "code",
   "execution_count": 3,
   "id": "f37fd672",
   "metadata": {
    "ExecuteTime": {
     "end_time": "2022-04-21T14:18:47.905934Z",
     "start_time": "2022-04-21T14:18:47.738556Z"
    }
   },
   "outputs": [
    {
     "data": {
      "text/html": [
       "<div>\n",
       "<style scoped>\n",
       "    .dataframe tbody tr th:only-of-type {\n",
       "        vertical-align: middle;\n",
       "    }\n",
       "\n",
       "    .dataframe tbody tr th {\n",
       "        vertical-align: top;\n",
       "    }\n",
       "\n",
       "    .dataframe thead th {\n",
       "        text-align: right;\n",
       "    }\n",
       "</style>\n",
       "<table border=\"1\" class=\"dataframe\">\n",
       "  <thead>\n",
       "    <tr style=\"text-align: right;\">\n",
       "      <th></th>\n",
       "      <th>id</th>\n",
       "      <th>date</th>\n",
       "      <th>line_ref</th>\n",
       "      <th>operator_ref</th>\n",
       "      <th>route_short_name</th>\n",
       "      <th>route_long_name</th>\n",
       "      <th>route_mkt</th>\n",
       "      <th>route_direction</th>\n",
       "      <th>route_alternative</th>\n",
       "      <th>agency_name</th>\n",
       "      <th>route_type</th>\n",
       "    </tr>\n",
       "  </thead>\n",
       "  <tbody>\n",
       "    <tr>\n",
       "      <th>0</th>\n",
       "      <td>26129</td>\n",
       "      <td>2022-03-18</td>\n",
       "      <td>7020</td>\n",
       "      <td>3</td>\n",
       "      <td>480</td>\n",
       "      <td>ת. רכבת תל אביב- סבידור/רציפים-תל אביב יפו&lt;-&gt;ת. מרכזית ירושלים/הורדה-ירושלים-1#</td>\n",
       "      <td>10480</td>\n",
       "      <td>1</td>\n",
       "      <td>#</td>\n",
       "      <td>אגד</td>\n",
       "      <td>3</td>\n",
       "    </tr>\n",
       "    <tr>\n",
       "      <th>1</th>\n",
       "      <td>26130</td>\n",
       "      <td>2022-03-18</td>\n",
       "      <td>7022</td>\n",
       "      <td>3</td>\n",
       "      <td>480</td>\n",
       "      <td>מסוף רדינג/רציפים-תל אביב יפו&lt;-&gt;ממילא/קריב-ירושלים-1ק</td>\n",
       "      <td>10480</td>\n",
       "      <td>1</td>\n",
       "      <td>ק</td>\n",
       "      <td>אגד</td>\n",
       "      <td>3</td>\n",
       "    </tr>\n",
       "    <tr>\n",
       "      <th>2</th>\n",
       "      <td>26131</td>\n",
       "      <td>2022-03-18</td>\n",
       "      <td>7023</td>\n",
       "      <td>3</td>\n",
       "      <td>480</td>\n",
       "      <td>ת. מרכזית ירושלים קומה 3/רציפים-ירושלים&lt;-&gt;ת. רכבת תל אביב - סבידור/הורדה-תל אביב יפו-3#</td>\n",
       "      <td>10480</td>\n",
       "      <td>3</td>\n",
       "      <td>#</td>\n",
       "      <td>אגד</td>\n",
       "      <td>3</td>\n",
       "    </tr>\n",
       "    <tr>\n",
       "      <th>3</th>\n",
       "      <td>26132</td>\n",
       "      <td>2022-03-18</td>\n",
       "      <td>7034</td>\n",
       "      <td>3</td>\n",
       "      <td>480</td>\n",
       "      <td>ממילא/קריב-ירושלים&lt;-&gt;מסוף רדינג/הורדה-תל אביב יפו-3ק</td>\n",
       "      <td>10480</td>\n",
       "      <td>3</td>\n",
       "      <td>ק</td>\n",
       "      <td>אגד</td>\n",
       "      <td>3</td>\n",
       "    </tr>\n",
       "  </tbody>\n",
       "</table>\n",
       "</div>"
      ],
      "text/plain": [
       "      id        date  line_ref  operator_ref route_short_name  \\\n",
       "0  26129  2022-03-18      7020             3              480   \n",
       "1  26130  2022-03-18      7022             3              480   \n",
       "2  26131  2022-03-18      7023             3              480   \n",
       "3  26132  2022-03-18      7034             3              480   \n",
       "\n",
       "                                                                           route_long_name  \\\n",
       "0          ת. רכבת תל אביב- סבידור/רציפים-תל אביב יפו<->ת. מרכזית ירושלים/הורדה-ירושלים-1#   \n",
       "1                                    מסוף רדינג/רציפים-תל אביב יפו<->ממילא/קריב-ירושלים-1ק   \n",
       "2  ת. מרכזית ירושלים קומה 3/רציפים-ירושלים<->ת. רכבת תל אביב - סבידור/הורדה-תל אביב יפו-3#   \n",
       "3                                     ממילא/קריב-ירושלים<->מסוף רדינג/הורדה-תל אביב יפו-3ק   \n",
       "\n",
       "  route_mkt route_direction route_alternative agency_name route_type  \n",
       "0     10480               1                 #         אגד          3  \n",
       "1     10480               1                 ק         אגד          3  \n",
       "2     10480               3                 #         אגד          3  \n",
       "3     10480               3                 ק         אגד          3  "
      ]
     },
     "execution_count": 3,
     "metadata": {},
     "output_type": "execute_result"
    }
   ],
   "source": [
    "pd.DataFrame(stride.get('/gtfs_routes/list', {'route_short_name':480,\n",
    "                                                            'agency_name': 'אגד',\n",
    "                                                            'route_long_name_contains': 'ירושלים',\n",
    "                                              'date_from': '2022-03-18',\n",
    "                                              'date_to':  '2022-03-18'}))"
   ]
  },
  {
   "cell_type": "markdown",
   "id": "27fd346f",
   "metadata": {},
   "source": [
    "This line as 4 `line_ref` (routes), let's pick `7020` route and get its SIRI data."
   ]
  },
  {
   "cell_type": "markdown",
   "id": "a8516513",
   "metadata": {},
   "source": [
    "### Get rides data\n",
    "\n",
    "We use the stride iterate method to efficiently iterate over a possibly long list of results.\n",
    "\n",
    "Behind the scenes it uses the offset/limit parameters so you don't have to worry about it.\n",
    "\n",
    "We pass on the iterator directly on to Pandas to create a DataFrame."
   ]
  },
  {
   "cell_type": "code",
   "execution_count": 4,
   "id": "f1558827",
   "metadata": {
    "ExecuteTime": {
     "end_time": "2022-04-21T14:18:57.063076Z",
     "start_time": "2022-04-21T14:18:47.910910Z"
    }
   },
   "outputs": [
    {
     "data": {
      "text/plain": [
       "(3760, 35)"
      ]
     },
     "execution_count": 4,
     "metadata": {},
     "output_type": "execute_result"
    }
   ],
   "source": [
    "siri_vehicle_locations_480 = pd.DataFrame(stride.iterate('/siri_vehicle_locations/list', {\n",
    "    'siri_routes__line_ref': '7020',\n",
    "    'siri_rides__schedualed_start_time_from': datetime.datetime(2022,3, 18, tzinfo=tz.gettz('Israel')),\n",
    "    'siri_rides__schedualed_start_time_to': datetime.datetime(2022,3, 18, tzinfo=tz.gettz('Israel'))+datetime.timedelta(days=1),\n",
    "    'order_by': 'recorded_at_time desc'\n",
    "}, limit=1000000))\n",
    "\n",
    "siri_vehicle_locations_480.shape"
   ]
  },
  {
   "cell_type": "code",
   "execution_count": 5,
   "id": "4f081049",
   "metadata": {
    "ExecuteTime": {
     "end_time": "2022-04-21T14:18:57.094064Z",
     "start_time": "2022-04-21T14:18:57.068078Z"
    }
   },
   "outputs": [
    {
     "data": {
      "text/html": [
       "<div>\n",
       "<style scoped>\n",
       "    .dataframe tbody tr th:only-of-type {\n",
       "        vertical-align: middle;\n",
       "    }\n",
       "\n",
       "    .dataframe tbody tr th {\n",
       "        vertical-align: top;\n",
       "    }\n",
       "\n",
       "    .dataframe thead th {\n",
       "        text-align: right;\n",
       "    }\n",
       "</style>\n",
       "<table border=\"1\" class=\"dataframe\">\n",
       "  <thead>\n",
       "    <tr style=\"text-align: right;\">\n",
       "      <th></th>\n",
       "      <th>recorded_at_time</th>\n",
       "      <th>siri_route__line_ref</th>\n",
       "      <th>siri_route__operator_ref</th>\n",
       "      <th>siri_ride__scheduled_start_time</th>\n",
       "      <th>lon</th>\n",
       "      <th>lat</th>\n",
       "      <th>siri_ride__vehicle_ref</th>\n",
       "    </tr>\n",
       "  </thead>\n",
       "  <tbody>\n",
       "    <tr>\n",
       "      <th>0</th>\n",
       "      <td>2022-03-18 15:59:54+00:00</td>\n",
       "      <td>7020</td>\n",
       "      <td>3</td>\n",
       "      <td>2022-03-18 14:04:00+00:00</td>\n",
       "      <td>34.796696</td>\n",
       "      <td>32.082924</td>\n",
       "      <td>7658569</td>\n",
       "    </tr>\n",
       "    <tr>\n",
       "      <th>1</th>\n",
       "      <td>2022-03-18 15:59:54+00:00</td>\n",
       "      <td>7020</td>\n",
       "      <td>3</td>\n",
       "      <td>2022-03-18 14:04:00+00:00</td>\n",
       "      <td>34.796696</td>\n",
       "      <td>32.082924</td>\n",
       "      <td>7658569</td>\n",
       "    </tr>\n",
       "    <tr>\n",
       "      <th>2</th>\n",
       "      <td>2022-03-18 15:59:54+00:00</td>\n",
       "      <td>7020</td>\n",
       "      <td>3</td>\n",
       "      <td>2022-03-18 14:04:00+00:00</td>\n",
       "      <td>34.796696</td>\n",
       "      <td>32.082924</td>\n",
       "      <td>7658569</td>\n",
       "    </tr>\n",
       "    <tr>\n",
       "      <th>3</th>\n",
       "      <td>2022-03-18 15:57:57+00:00</td>\n",
       "      <td>7020</td>\n",
       "      <td>3</td>\n",
       "      <td>2022-03-18 14:04:00+00:00</td>\n",
       "      <td>34.797039</td>\n",
       "      <td>32.083153</td>\n",
       "      <td>7658569</td>\n",
       "    </tr>\n",
       "    <tr>\n",
       "      <th>4</th>\n",
       "      <td>2022-03-18 15:57:57+00:00</td>\n",
       "      <td>7020</td>\n",
       "      <td>3</td>\n",
       "      <td>2022-03-18 14:04:00+00:00</td>\n",
       "      <td>34.797039</td>\n",
       "      <td>32.083153</td>\n",
       "      <td>7658569</td>\n",
       "    </tr>\n",
       "  </tbody>\n",
       "</table>\n",
       "</div>"
      ],
      "text/plain": [
       "           recorded_at_time  siri_route__line_ref  siri_route__operator_ref  \\\n",
       "0 2022-03-18 15:59:54+00:00                  7020                         3   \n",
       "1 2022-03-18 15:59:54+00:00                  7020                         3   \n",
       "2 2022-03-18 15:59:54+00:00                  7020                         3   \n",
       "3 2022-03-18 15:57:57+00:00                  7020                         3   \n",
       "4 2022-03-18 15:57:57+00:00                  7020                         3   \n",
       "\n",
       "  siri_ride__scheduled_start_time        lon        lat siri_ride__vehicle_ref  \n",
       "0       2022-03-18 14:04:00+00:00  34.796696  32.082924                7658569  \n",
       "1       2022-03-18 14:04:00+00:00  34.796696  32.082924                7658569  \n",
       "2       2022-03-18 14:04:00+00:00  34.796696  32.082924                7658569  \n",
       "3       2022-03-18 14:04:00+00:00  34.797039  32.083153                7658569  \n",
       "4       2022-03-18 14:04:00+00:00  34.797039  32.083153                7658569  "
      ]
     },
     "execution_count": 5,
     "metadata": {},
     "output_type": "execute_result"
    }
   ],
   "source": [
    "siri_vehicle_locations_480[['recorded_at_time','siri_route__line_ref',\n",
    "                                    'siri_route__operator_ref','siri_ride__scheduled_start_time',\n",
    "                                   'lon','lat','siri_ride__vehicle_ref']].head()"
   ]
  },
  {
   "cell_type": "markdown",
   "id": "e7e6039b",
   "metadata": {},
   "source": [
    "The date columns are on UTC timezone, let's localize the dates to Israel timezone."
   ]
  },
  {
   "cell_type": "code",
   "execution_count": 6,
   "id": "5dadf5a5",
   "metadata": {
    "ExecuteTime": {
     "end_time": "2022-04-21T14:18:57.126045Z",
     "start_time": "2022-04-21T14:18:57.105070Z"
    }
   },
   "outputs": [],
   "source": [
    "def localize_dates(data, dt_columns = None):\n",
    "    if dt_columns is None:\n",
    "        dt_columns=[]\n",
    "    \n",
    "    data = data.copy()\n",
    "    \n",
    "    for c in dt_columns:\n",
    "        data[c] = pd.to_datetime(data[c]).dt.tz_convert('Israel')\n",
    "    \n",
    "    return data"
   ]
  },
  {
   "cell_type": "code",
   "execution_count": 7,
   "id": "953b0578",
   "metadata": {
    "ExecuteTime": {
     "end_time": "2022-04-21T14:18:57.332973Z",
     "start_time": "2022-04-21T14:18:57.129065Z"
    }
   },
   "outputs": [],
   "source": [
    "dt_columns = ['recorded_at_time','siri_ride__scheduled_start_time']\n",
    "\n",
    "siri_vehicle_locations_480 = localize_dates(siri_vehicle_locations_480, dt_columns)"
   ]
  },
  {
   "cell_type": "code",
   "execution_count": 8,
   "id": "c099d726",
   "metadata": {
    "ExecuteTime": {
     "end_time": "2022-04-21T14:18:57.364995Z",
     "start_time": "2022-04-21T14:18:57.337975Z"
    }
   },
   "outputs": [
    {
     "data": {
      "text/plain": [
       "2022-03-18 00:10:00+02:00     45\n",
       "2022-03-18 06:00:00+02:00     47\n",
       "2022-03-18 06:30:00+02:00     49\n",
       "2022-03-18 07:00:00+02:00     46\n",
       "2022-03-18 07:20:00+02:00     46\n",
       "2022-03-18 07:40:00+02:00     46\n",
       "2022-03-18 08:00:00+02:00     46\n",
       "2022-03-18 08:12:00+02:00     45\n",
       "2022-03-18 08:36:00+02:00     49\n",
       "2022-03-18 08:48:00+02:00     46\n",
       "2022-03-18 09:00:00+02:00     47\n",
       "2022-03-18 09:10:00+02:00     48\n",
       "2022-03-18 09:20:00+02:00     52\n",
       "2022-03-18 09:30:00+02:00     50\n",
       "2022-03-18 09:40:00+02:00     58\n",
       "2022-03-18 09:50:00+02:00     67\n",
       "2022-03-18 10:00:00+02:00     62\n",
       "2022-03-18 10:10:00+02:00     66\n",
       "2022-03-18 10:20:00+02:00     73\n",
       "2022-03-18 10:30:00+02:00     72\n",
       "2022-03-18 10:40:00+02:00     74\n",
       "2022-03-18 10:50:00+02:00     79\n",
       "2022-03-18 11:00:00+02:00     88\n",
       "2022-03-18 11:10:00+02:00     97\n",
       "2022-03-18 11:20:00+02:00     98\n",
       "2022-03-18 11:30:00+02:00     91\n",
       "2022-03-18 11:40:00+02:00    111\n",
       "2022-03-18 11:50:00+02:00     98\n",
       "2022-03-18 12:00:00+02:00     94\n",
       "2022-03-18 12:10:00+02:00     91\n",
       "2022-03-18 12:20:00+02:00     91\n",
       "2022-03-18 12:30:00+02:00     83\n",
       "2022-03-18 12:40:00+02:00     91\n",
       "2022-03-18 12:50:00+02:00     80\n",
       "2022-03-18 13:00:00+02:00     92\n",
       "2022-03-18 13:10:00+02:00     88\n",
       "2022-03-18 13:20:00+02:00     78\n",
       "2022-03-18 13:30:00+02:00     72\n",
       "2022-03-18 13:40:00+02:00     69\n",
       "2022-03-18 13:50:00+02:00     63\n",
       "2022-03-18 14:00:00+02:00     73\n",
       "2022-03-18 14:10:00+02:00     71\n",
       "2022-03-18 14:20:00+02:00     63\n",
       "2022-03-18 14:30:00+02:00     74\n",
       "2022-03-18 14:40:00+02:00     76\n",
       "2022-03-18 14:50:00+02:00     61\n",
       "2022-03-18 15:10:00+02:00     63\n",
       "2022-03-18 15:20:00+02:00     54\n",
       "2022-03-18 15:30:00+02:00     59\n",
       "2022-03-18 15:40:00+02:00     55\n",
       "2022-03-18 15:48:00+02:00     44\n",
       "2022-03-18 15:56:00+02:00     56\n",
       "2022-03-18 16:04:00+02:00     79\n",
       "2022-03-18 16:12:00+02:00     49\n",
       "2022-03-18 16:20:00+02:00     48\n",
       "2022-03-18 16:30:00+02:00     47\n",
       "Name: siri_ride__scheduled_start_time, dtype: int64"
      ]
     },
     "execution_count": 8,
     "metadata": {},
     "output_type": "execute_result"
    }
   ],
   "source": [
    "siri_vehicle_locations_480.siri_ride__scheduled_start_time.value_counts().sort_index()"
   ]
  },
  {
   "cell_type": "markdown",
   "id": "45c6f8b4",
   "metadata": {},
   "source": [
    "It looks great! (*note 18/03/2022 is Friday*)\n",
    "\n",
    "Now we can use Pandas to get some information from this data."
   ]
  },
  {
   "cell_type": "markdown",
   "id": "cb387dcf",
   "metadata": {},
   "source": [
    "### Notes and Resources"
   ]
  },
  {
   "cell_type": "markdown",
   "id": "79516c25",
   "metadata": {},
   "source": [
    "siri_rides/list: \n",
    "- `siri_route_ids`: route_ids field can be a comma-separated string containing a list of ids.\n",
    "- all date/time parameters must have a timezone (for example: `datetime.datetime.now(datetime.timezone.utc) - datetime.timedelta(days=1)`).\n",
    "- `order_by`: any field can be specified in `order_by` with asc or desc specifier, you can specify comma-separated multiple values.\n",
    "- `limit`: any number can be specified for the limit as we use pagination behind the scenes, default is 10,000.\n",
    "\n",
    "Documentation: https://open-bus-stride-api.hasadna.org.il/docs#/"
   ]
  }
 ],
 "metadata": {
  "kernelspec": {
   "display_name": "Python 3 (ipykernel)",
   "language": "python",
   "name": "python3"
  },
  "language_info": {
   "codemirror_mode": {
    "name": "ipython",
    "version": 3
   },
   "file_extension": ".py",
   "mimetype": "text/x-python",
   "name": "python",
   "nbconvert_exporter": "python",
   "pygments_lexer": "ipython3",
   "version": "3.8.10"
  }
 },
 "nbformat": 4,
 "nbformat_minor": 5
}
